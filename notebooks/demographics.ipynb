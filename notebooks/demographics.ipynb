{
 "cells": [
  {
   "cell_type": "code",
   "execution_count": 1,
   "metadata": {},
   "outputs": [],
   "source": [
    "from pathlib import Path\n",
    "import numpy as np\n",
    "import pandas as pd\n",
    "import glob\n",
    "import matplotlib.pyplot as plt\n",
    "import seaborn as sb\n",
    "import Functional_Fusion.util as util\n",
    "import itertools\n",
    "from scipy import stats\n",
    "import os\n",
    "from scripts.seed_corr import import_ts, correlate_ts, get_conn, get_data, select_regions\n",
    "import pingouin as pg\n",
    "from copy import deepcopy\n",
    "from paths import set_base_dir\n",
    "\n",
    "\n"
   ]
  },
  {
   "cell_type": "markdown",
   "metadata": {},
   "source": [
    "# Study demographics\n",
    "## Full Sample"
   ]
  },
  {
   "cell_type": "code",
   "execution_count": 2,
   "metadata": {},
   "outputs": [],
   "source": [
    "# import demographic data\n",
    "base_dir = set_base_dir()\n",
    "\n",
    "info = pd.read_csv(\n",
    "    f'{base_dir}/participants.tsv', sep='\\t')"
   ]
  },
  {
   "cell_type": "code",
   "execution_count": 3,
   "metadata": {},
   "outputs": [
    {
     "name": "stdout",
     "output_type": "stream",
     "text": [
      "Sex levels: ['m' 'f']\n",
      "Group levels: ['p' 'c']\n",
      "Condition levels: ['PropFB' 'VMFB' 'VM' 'Prop']\n"
     ]
    },
    {
     "data": {
      "text/html": [
       "<div>\n",
       "<style scoped>\n",
       "    .dataframe tbody tr th:only-of-type {\n",
       "        vertical-align: middle;\n",
       "    }\n",
       "\n",
       "    .dataframe tbody tr th {\n",
       "        vertical-align: top;\n",
       "    }\n",
       "\n",
       "    .dataframe thead tr th {\n",
       "        text-align: left;\n",
       "    }\n",
       "\n",
       "    .dataframe thead tr:last-of-type th {\n",
       "        text-align: right;\n",
       "    }\n",
       "</style>\n",
       "<table border=\"1\" class=\"dataframe\">\n",
       "  <thead>\n",
       "    <tr>\n",
       "      <th></th>\n",
       "      <th>sex</th>\n",
       "      <th colspan=\"4\" halign=\"left\">age</th>\n",
       "      <th>condition</th>\n",
       "    </tr>\n",
       "    <tr>\n",
       "      <th></th>\n",
       "      <th>value_counts</th>\n",
       "      <th>mean</th>\n",
       "      <th>std</th>\n",
       "      <th>min</th>\n",
       "      <th>max</th>\n",
       "      <th>value_counts</th>\n",
       "    </tr>\n",
       "    <tr>\n",
       "      <th>group</th>\n",
       "      <th></th>\n",
       "      <th></th>\n",
       "      <th></th>\n",
       "      <th></th>\n",
       "      <th></th>\n",
       "      <th></th>\n",
       "    </tr>\n",
       "  </thead>\n",
       "  <tbody>\n",
       "    <tr>\n",
       "      <th>c</th>\n",
       "      <td>[20, 20]</td>\n",
       "      <td>55.800</td>\n",
       "      <td>10.830157</td>\n",
       "      <td>24</td>\n",
       "      <td>70</td>\n",
       "      <td>[10, 10, 10, 10]</td>\n",
       "    </tr>\n",
       "    <tr>\n",
       "      <th>p</th>\n",
       "      <td>[21, 19]</td>\n",
       "      <td>55.325</td>\n",
       "      <td>11.289631</td>\n",
       "      <td>18</td>\n",
       "      <td>76</td>\n",
       "      <td>[10, 10, 10, 10]</td>\n",
       "    </tr>\n",
       "  </tbody>\n",
       "</table>\n",
       "</div>"
      ],
      "text/plain": [
       "               sex     age                            condition\n",
       "      value_counts    mean        std min max      value_counts\n",
       "group                                                          \n",
       "c         [20, 20]  55.800  10.830157  24  70  [10, 10, 10, 10]\n",
       "p         [21, 19]  55.325  11.289631  18  76  [10, 10, 10, 10]"
      ]
     },
     "execution_count": 3,
     "metadata": {},
     "output_type": "execute_result"
    }
   ],
   "source": [
    "demographics = info.groupby(['group']).agg({'sex': pd.Series.value_counts,\n",
    "                                               'age': ['mean', 'std', 'min', 'max'],\n",
    "                                               'condition': pd.Series.value_counts})\n",
    "demographics.to_latex(f'{base_dir}/results/demographics.tex')\n",
    "\n",
    "# Print out the unique levels of each categorical variable\n",
    "sex_levels = info['sex'].unique()\n",
    "group_levels = info['group'].unique()\n",
    "condition_levels = info['condition'].unique()\n",
    "print(\"Sex levels:\", sex_levels)\n",
    "print(\"Group levels:\", group_levels)\n",
    "print(\"Condition levels:\", condition_levels)\n",
    "demographics"
   ]
  },
  {
   "cell_type": "markdown",
   "metadata": {},
   "source": [
    "## Template generation sample and validation sample"
   ]
  },
  {
   "cell_type": "code",
   "execution_count": 31,
   "metadata": {},
   "outputs": [],
   "source": [
    "# import list of subjects that are included in the template\n",
    "template_sample = pd.read_csv(\n",
    "    f'{base_dir}/../code/cerebellar_degeneration/data/template_degeneration_40_subjects.tsv', sep=',')\n",
    "included_subject_list = template_sample.subject.tolist()\n"
   ]
  },
  {
   "cell_type": "code",
   "execution_count": 32,
   "metadata": {},
   "outputs": [],
   "source": [
    "# add information on whether subject was included in the template to the participant template_demographics\n",
    "info['template_included'] = [subject in included_subject_list for subject in info.participant_id.tolist()]\n",
    "# add information on which scan (pre or post) was used for the template\n",
    "info['template_timepoint'] = None\n",
    "for s,subject in enumerate(info.participant_id):\n",
    "    if subject in included_subject_list:\n",
    "        info.at[s,'template_timepoint'] = template_sample[template_sample.subject == subject].session.values[0].split('-')[1]\n"
   ]
  },
  {
   "cell_type": "code",
   "execution_count": 33,
   "metadata": {},
   "outputs": [
    {
     "name": "stdout",
     "output_type": "stream",
     "text": [
      "Sex levels: ['m' 'f']\n",
      "Group levels: ['p' 'c']\n",
      "Condition levels: ['PropFB' 'VMFB' 'VM' 'Prop']\n",
      "Timepoint levels: ['pre' None 'post']\n"
     ]
    },
    {
     "data": {
      "text/html": [
       "<div>\n",
       "<style scoped>\n",
       "    .dataframe tbody tr th:only-of-type {\n",
       "        vertical-align: middle;\n",
       "    }\n",
       "\n",
       "    .dataframe tbody tr th {\n",
       "        vertical-align: top;\n",
       "    }\n",
       "\n",
       "    .dataframe thead tr th {\n",
       "        text-align: left;\n",
       "    }\n",
       "\n",
       "    .dataframe thead tr:last-of-type th {\n",
       "        text-align: right;\n",
       "    }\n",
       "</style>\n",
       "<table border=\"1\" class=\"dataframe\">\n",
       "  <thead>\n",
       "    <tr>\n",
       "      <th></th>\n",
       "      <th>sex</th>\n",
       "      <th colspan=\"2\" halign=\"left\">age</th>\n",
       "      <th>group</th>\n",
       "      <th>condition</th>\n",
       "      <th>template_timepoint</th>\n",
       "    </tr>\n",
       "    <tr>\n",
       "      <th></th>\n",
       "      <th>value_counts</th>\n",
       "      <th>mean</th>\n",
       "      <th>std</th>\n",
       "      <th>value_counts</th>\n",
       "      <th>value_counts</th>\n",
       "      <th>value_counts</th>\n",
       "    </tr>\n",
       "    <tr>\n",
       "      <th>template_included</th>\n",
       "      <th></th>\n",
       "      <th></th>\n",
       "      <th></th>\n",
       "      <th></th>\n",
       "      <th></th>\n",
       "      <th></th>\n",
       "    </tr>\n",
       "  </thead>\n",
       "  <tbody>\n",
       "    <tr>\n",
       "      <th>True</th>\n",
       "      <td>[23, 17]</td>\n",
       "      <td>57.150</td>\n",
       "      <td>9.962880</td>\n",
       "      <td>[20, 20]</td>\n",
       "      <td>[10, 10, 10, 10]</td>\n",
       "      <td>[21, 19]</td>\n",
       "    </tr>\n",
       "    <tr>\n",
       "      <th>False</th>\n",
       "      <td>[22, 18]</td>\n",
       "      <td>53.975</td>\n",
       "      <td>11.850538</td>\n",
       "      <td>[20, 20]</td>\n",
       "      <td>[10, 10, 10, 10]</td>\n",
       "      <td>[]</td>\n",
       "    </tr>\n",
       "  </tbody>\n",
       "</table>\n",
       "</div>"
      ],
      "text/plain": [
       "                           sex     age                   group  \\\n",
       "                  value_counts    mean        std value_counts   \n",
       "template_included                                                \n",
       "True                  [23, 17]  57.150   9.962880     [20, 20]   \n",
       "False                 [22, 18]  53.975  11.850538     [20, 20]   \n",
       "\n",
       "                          condition template_timepoint  \n",
       "                       value_counts       value_counts  \n",
       "template_included                                       \n",
       "True               [10, 10, 10, 10]           [21, 19]  \n",
       "False              [10, 10, 10, 10]                 []  "
      ]
     },
     "execution_count": 33,
     "metadata": {},
     "output_type": "execute_result"
    }
   ],
   "source": [
    "# Show template_demographics of included and excluded subjects (count categorical values of sex, group and condition and calculate mean and std of age)\n",
    "template_demographics = info.groupby(['template_included']).agg({'sex': pd.Series.value_counts,\n",
    "                                               'age': ['mean', 'std'],\n",
    "                                               'group': pd.Series.value_counts,\n",
    "                                               'condition': pd.Series.value_counts,\n",
    "                                               'template_timepoint': pd.Series.value_counts})\n",
    "template_demographics = template_demographics.reindex([True, False])\n",
    "template_demographics.to_latex(f'{base_dir}/results/template_demographics.tex')\n",
    "\n",
    "# Print the levels of the categorical variables\n",
    "timepoint_levels = info['template_timepoint'].unique()\n",
    "print(\"Sex levels:\", sex_levels)\n",
    "print(\"Group levels:\", group_levels)\n",
    "print(\"Condition levels:\", condition_levels)\n",
    "print(\"Timepoint levels:\", timepoint_levels)\n",
    "\n",
    "template_demographics\n",
    "\n"
   ]
  },
  {
   "cell_type": "code",
   "execution_count": 35,
   "metadata": {},
   "outputs": [
    {
     "name": "stdout",
     "output_type": "stream",
     "text": [
      "condition                Prop  PropFB  VM  VMFB\n",
      "template_included group                        \n",
      "False             c         6       5   7     2\n",
      "                  p         4       5   3     8\n",
      "True              c         4       5   3     8\n",
      "                  p         6       5   7     2\n",
      "template_timepoint       post  pre\n",
      "template_included group           \n",
      "True              c        11    9\n",
      "                  p        10   10\n",
      "template_timepoint           post  pre\n",
      "template_included condition           \n",
      "True              Prop          5    5\n",
      "                  PropFB        6    4\n",
      "                  VM            5    5\n",
      "                  VMFB          5    5\n"
     ]
    }
   ],
   "source": [
    "# Counterbalancing of group x condition combinations\n",
    "group_condition = info.groupby(['template_included','group', 'condition']).size().unstack(fill_value=0)\n",
    "print(group_condition)\n",
    "# Counterbalancing of group x timepoint combinations\n",
    "group_timepoint = info.groupby(['template_included','group', 'template_timepoint']).size().unstack(fill_value=0)\n",
    "print(group_timepoint)\n",
    "# Counterbalancing of condition x timepoint combinations\n",
    "condition_timepoint = info.groupby(['template_included','condition', 'template_timepoint']).size().unstack(fill_value=0)\n",
    "print(condition_timepoint)\n",
    "\n"
   ]
  },
  {
   "cell_type": "markdown",
   "metadata": {},
   "source": [
    "## FIX Training Sample"
   ]
  },
  {
   "cell_type": "code",
   "execution_count": 36,
   "metadata": {},
   "outputs": [],
   "source": [
    "# import list of subjects that are included in the hand-labelled training dataset for FIX training\n",
    "fix_sample = pd.read_csv(\n",
    "    f'../data/classified_datasets.txt', sep='/')\n",
    "fix_sample = fix_sample.iloc[:,-4:-2]\n",
    "fix_sample.columns = ['subject', 'session']\n",
    "fix_sample['session'] = fix_sample['session'].str.replace('ses-','')\n"
   ]
  },
  {
   "cell_type": "code",
   "execution_count": 100,
   "metadata": {},
   "outputs": [
    {
     "data": {
      "text/plain": [
       "<Axes: >"
      ]
     },
     "execution_count": 100,
     "metadata": {},
     "output_type": "execute_result"
    },
    {
     "data": {
      "image/png": "[encoded data removed]",
      "text/plain": [
       "<Figure size 640x480 with 1 Axes>"
      ]
     },
     "metadata": {},
     "output_type": "display_data"
    }
   ],
   "source": [
    "info['fix_included'] = [subject in fix_sample.subject.tolist() for subject in info.participant_id.tolist()]\n",
    "info['fix_timepoint'] = None\n",
    "\n",
    "for s,subject in enumerate(info.participant_id):\n",
    "    if subject in fix_sample.subject.tolist():\n",
    "        info.at[s,'fix_timepoint'] = fix_sample[fix_sample.subject==subject].session.values[0]\n",
    "\n",
    "# Show the counterbalancing of the template and fix datasets\n",
    "sb.heatmap(info[['template_included', 'fix_included']], cmap='viridis', cbar=False)"
   ]
  },
  {
   "cell_type": "code",
   "execution_count": 103,
   "metadata": {},
   "outputs": [
    {
     "data": {
      "text/html": [
       "<div>\n",
       "<style scoped>\n",
       "    .dataframe tbody tr th:only-of-type {\n",
       "        vertical-align: middle;\n",
       "    }\n",
       "\n",
       "    .dataframe tbody tr th {\n",
       "        vertical-align: top;\n",
       "    }\n",
       "\n",
       "    .dataframe thead th {\n",
       "        text-align: right;\n",
       "    }\n",
       "</style>\n",
       "<table border=\"1\" class=\"dataframe\">\n",
       "  <thead>\n",
       "    <tr style=\"text-align: right;\">\n",
       "      <th></th>\n",
       "      <th>participant_id</th>\n",
       "      <th>template_timepoint</th>\n",
       "      <th>fix_timepoint</th>\n",
       "    </tr>\n",
       "  </thead>\n",
       "  <tbody>\n",
       "    <tr>\n",
       "      <th>0</th>\n",
       "      <td>sub-01</td>\n",
       "      <td>pre</td>\n",
       "      <td>pre</td>\n",
       "    </tr>\n",
       "    <tr>\n",
       "      <th>17</th>\n",
       "      <td>sub-18</td>\n",
       "      <td>post</td>\n",
       "      <td>post</td>\n",
       "    </tr>\n",
       "    <tr>\n",
       "      <th>18</th>\n",
       "      <td>sub-19</td>\n",
       "      <td>post</td>\n",
       "      <td>post</td>\n",
       "    </tr>\n",
       "    <tr>\n",
       "      <th>27</th>\n",
       "      <td>sub-28</td>\n",
       "      <td>pre</td>\n",
       "      <td>post</td>\n",
       "    </tr>\n",
       "    <tr>\n",
       "      <th>28</th>\n",
       "      <td>sub-29</td>\n",
       "      <td>post</td>\n",
       "      <td>post</td>\n",
       "    </tr>\n",
       "    <tr>\n",
       "      <th>30</th>\n",
       "      <td>sub-31</td>\n",
       "      <td>post</td>\n",
       "      <td>pre</td>\n",
       "    </tr>\n",
       "    <tr>\n",
       "      <th>33</th>\n",
       "      <td>sub-34</td>\n",
       "      <td>pre</td>\n",
       "      <td>pre</td>\n",
       "    </tr>\n",
       "    <tr>\n",
       "      <th>34</th>\n",
       "      <td>sub-35</td>\n",
       "      <td>post</td>\n",
       "      <td>pre</td>\n",
       "    </tr>\n",
       "    <tr>\n",
       "      <th>35</th>\n",
       "      <td>sub-36</td>\n",
       "      <td>pre</td>\n",
       "      <td>pre</td>\n",
       "    </tr>\n",
       "    <tr>\n",
       "      <th>37</th>\n",
       "      <td>sub-38</td>\n",
       "      <td>post</td>\n",
       "      <td>pre</td>\n",
       "    </tr>\n",
       "    <tr>\n",
       "      <th>41</th>\n",
       "      <td>sub-42</td>\n",
       "      <td>pre</td>\n",
       "      <td>post</td>\n",
       "    </tr>\n",
       "    <tr>\n",
       "      <th>42</th>\n",
       "      <td>sub-43</td>\n",
       "      <td>post</td>\n",
       "      <td>pre</td>\n",
       "    </tr>\n",
       "    <tr>\n",
       "      <th>43</th>\n",
       "      <td>sub-44</td>\n",
       "      <td>pre</td>\n",
       "      <td>post</td>\n",
       "    </tr>\n",
       "    <tr>\n",
       "      <th>48</th>\n",
       "      <td>sub-49</td>\n",
       "      <td>post</td>\n",
       "      <td>post</td>\n",
       "    </tr>\n",
       "    <tr>\n",
       "      <th>53</th>\n",
       "      <td>sub-54</td>\n",
       "      <td>pre</td>\n",
       "      <td>post</td>\n",
       "    </tr>\n",
       "    <tr>\n",
       "      <th>57</th>\n",
       "      <td>sub-58</td>\n",
       "      <td>pre</td>\n",
       "      <td>pre</td>\n",
       "    </tr>\n",
       "    <tr>\n",
       "      <th>59</th>\n",
       "      <td>sub-60</td>\n",
       "      <td>pre</td>\n",
       "      <td>post</td>\n",
       "    </tr>\n",
       "  </tbody>\n",
       "</table>\n",
       "</div>"
      ],
      "text/plain": [
       "   participant_id template_timepoint fix_timepoint\n",
       "0          sub-01                pre           pre\n",
       "17         sub-18               post          post\n",
       "18         sub-19               post          post\n",
       "27         sub-28                pre          post\n",
       "28         sub-29               post          post\n",
       "30         sub-31               post           pre\n",
       "33         sub-34                pre           pre\n",
       "34         sub-35               post           pre\n",
       "35         sub-36                pre           pre\n",
       "37         sub-38               post           pre\n",
       "41         sub-42                pre          post\n",
       "42         sub-43               post           pre\n",
       "43         sub-44                pre          post\n",
       "48         sub-49               post          post\n",
       "53         sub-54                pre          post\n",
       "57         sub-58                pre           pre\n",
       "59         sub-60                pre          post"
      ]
     },
     "execution_count": 103,
     "metadata": {},
     "output_type": "execute_result"
    },
    {
     "data": {
      "image/png": "[encoded data removed]",
      "text/plain": [
       "<Figure size 640x480 with 1 Axes>"
      ]
     },
     "metadata": {},
     "output_type": "display_data"
    }
   ],
   "source": [
    "# Highlight matching timepoints of subjects that were included in both the template and fix training\n",
    "matching_timepoints = info[info.template_included.values & info.fix_included.values][['participant_id', 'template_timepoint', 'fix_timepoint']]\n",
    "mapping = {'pre': 0, 'post': 1}\n",
    "sb.heatmap(matching_timepoints[['template_timepoint', 'fix_timepoint']].apply(lambda x: x.map(mapping)), cmap='binary', cbar=False)\n",
    "plt.title('Timepoints of subjects included in both template and fix datasets')\n",
    "matching_timepoints"
   ]
  },
  {
   "cell_type": "code",
   "execution_count": 130,
   "metadata": {},
   "outputs": [
    {
     "name": "stdout",
     "output_type": "stream",
     "text": [
      "Number of subjects included in the fix training dataset: 41 (26.11%)\n",
      "Number of subjects included in both fix and template datasets: 17\n",
      "Number of subject and timepoints included in both: 8\n"
     ]
    }
   ],
   "source": [
    "n_fix_train = np.where(info.fix_included)[0].shape[0]\n",
    "total = info.shape[0]*2-3 # 2 timepoints per subject, 1 subject is missing two timepoints (pre+post) and 1 subject is missing one timepoint (post)\n",
    "print(f'Number of subjects included in the fix training dataset: {n_fix_train} ({n_fix_train/total*100:.2f}%)')\n",
    "print(f'Number of subjects included in both fix and template datasets: {matching_timepoints.shape[0]}')\n",
    "print(f'Number of subject and timepoints included in both: {(matching_timepoints.template_timepoint == matching_timepoints.fix_timepoint).sum()}')"
   ]
  },
  {
   "cell_type": "code",
   "execution_count": 119,
   "metadata": {},
   "outputs": [
    {
     "data": {
      "text/html": [
       "<div>\n",
       "<style scoped>\n",
       "    .dataframe tbody tr th:only-of-type {\n",
       "        vertical-align: middle;\n",
       "    }\n",
       "\n",
       "    .dataframe tbody tr th {\n",
       "        vertical-align: top;\n",
       "    }\n",
       "\n",
       "    .dataframe thead tr th {\n",
       "        text-align: left;\n",
       "    }\n",
       "\n",
       "    .dataframe thead tr:last-of-type th {\n",
       "        text-align: right;\n",
       "    }\n",
       "</style>\n",
       "<table border=\"1\" class=\"dataframe\">\n",
       "  <thead>\n",
       "    <tr>\n",
       "      <th></th>\n",
       "      <th>sex</th>\n",
       "      <th colspan=\"2\" halign=\"left\">age</th>\n",
       "      <th>group</th>\n",
       "      <th>condition</th>\n",
       "      <th>fix_timepoint</th>\n",
       "    </tr>\n",
       "    <tr>\n",
       "      <th></th>\n",
       "      <th>value_counts</th>\n",
       "      <th>mean</th>\n",
       "      <th>std</th>\n",
       "      <th>value_counts</th>\n",
       "      <th>value_counts</th>\n",
       "      <th>value_counts</th>\n",
       "    </tr>\n",
       "    <tr>\n",
       "      <th>fix_included</th>\n",
       "      <th></th>\n",
       "      <th></th>\n",
       "      <th></th>\n",
       "      <th></th>\n",
       "      <th></th>\n",
       "      <th></th>\n",
       "    </tr>\n",
       "  </thead>\n",
       "  <tbody>\n",
       "    <tr>\n",
       "      <th>True</th>\n",
       "      <td>[21, 20]</td>\n",
       "      <td>56.146341</td>\n",
       "      <td>11.731498</td>\n",
       "      <td>[21, 20]</td>\n",
       "      <td>[11, 11, 10, 9]</td>\n",
       "      <td>[22, 19]</td>\n",
       "    </tr>\n",
       "    <tr>\n",
       "      <th>False</th>\n",
       "      <td>[21, 18]</td>\n",
       "      <td>54.948718</td>\n",
       "      <td>10.280151</td>\n",
       "      <td>[20, 19]</td>\n",
       "      <td>[11, 10, 9, 9]</td>\n",
       "      <td>[]</td>\n",
       "    </tr>\n",
       "  </tbody>\n",
       "</table>\n",
       "</div>"
      ],
      "text/plain": [
       "                      sex        age                   group        condition  \\\n",
       "             value_counts       mean        std value_counts     value_counts   \n",
       "fix_included                                                                    \n",
       "True             [21, 20]  56.146341  11.731498     [21, 20]  [11, 11, 10, 9]   \n",
       "False            [21, 18]  54.948718  10.280151     [20, 19]   [11, 10, 9, 9]   \n",
       "\n",
       "             fix_timepoint  \n",
       "              value_counts  \n",
       "fix_included                \n",
       "True              [22, 19]  \n",
       "False                   []  "
      ]
     },
     "execution_count": 119,
     "metadata": {},
     "output_type": "execute_result"
    }
   ],
   "source": [
    "# Show fix_demographics of included and excluded subjects (count categorical\n",
    "# values of\n",
    "\n",
    "fix_demographics = info.groupby(['fix_included']).agg({'sex': pd.Series.value_counts,\n",
    "                                               'age': ['mean', 'std'],\n",
    "                                               'group': pd.Series.value_counts,\n",
    "                                               'condition': pd.Series.value_counts,\n",
    "                                               'fix_timepoint': pd.Series.value_counts})\n",
    "fix_demographics = fix_demographics.reindex([True, False])\n",
    "fix_demographics.to_latex(f'{base_dir}/results/fix_demographics.tex')\n",
    "fix_demographics\n"
   ]
  }
 ],
 "metadata": {
  "kernelspec": {
   "display_name": "env",
   "language": "python",
   "name": "python3"
  },
  "language_info": {
   "codemirror_mode": {
    "name": "ipython",
    "version": 3
   },
   "file_extension": ".py",
   "mimetype": "text/x-python",
   "name": "python",
   "nbconvert_exporter": "python",
   "pygments_lexer": "ipython3",
   "version": "3.9.10"
  },
  "orig_nbformat": 4
 },
 "nbformat": 4,
 "nbformat_minor": 2
}
