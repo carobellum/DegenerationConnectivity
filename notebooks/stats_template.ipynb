{
 "cells": [
  {
   "cell_type": "code",
   "execution_count": 161,
   "metadata": {},
   "outputs": [],
   "source": [
    "from pathlib import Path\n",
    "import numpy as np\n",
    "import pandas as pd\n",
    "import glob\n",
    "import matplotlib.pyplot as plt\n",
    "import seaborn as sns\n",
    "import Functional_Fusion.util as util\n",
    "import itertools\n",
    "from scipy import stats\n",
    "import os\n",
    "import pingouin as pg\n",
    "from copy import deepcopy\n",
    "from paths import set_base_dir\n",
    "\n",
    "\n",
    "base_dir = set_base_dir()\n"
   ]
  },
  {
   "cell_type": "code",
   "execution_count": 162,
   "metadata": {},
   "outputs": [],
   "source": [
    "# import fissure data\n",
    "distance = pd.read_csv(f'../data/fissures.csv', sep='\\t')\n",
    "\n",
    "# import demographic data\n",
    "info = pd.read_csv(\n",
    "    f'{base_dir}/participants.tsv', sep='\\t')\n",
    "\n",
    "# import list of subjects that are included in the template\n",
    "template_sample = pd.read_csv(\n",
    "    f'{base_dir}/../code/cerebellar_degeneration/data/template_DeCon_subjects.tsv', sep=',')\n",
    "included_subject_list = template_sample.subject.tolist()\n"
   ]
  },
  {
   "cell_type": "code",
   "execution_count": 163,
   "metadata": {},
   "outputs": [],
   "source": [
    "data = pd.merge(distance, info, left_on='subject',\n",
    "                right_on='participant_id', how='inner').drop(columns=['participant_id'])\n",
    "\n",
    "# add information on whether subject was included in the template to the fissure data\n",
    "included = [subject in included_subject_list for subject in data.subject.tolist()]\n",
    "data['included'] = included\n",
    "\n",
    "# add information on whether subject was included in the template to the participant demographics\n",
    "info['included'] = [subject in included_subject_list for subject in info.participant_id.tolist()]\n",
    "# add information on which scan (pre or post) was used for the template\n",
    "info['timepoint'] = None\n",
    "for s,subject in enumerate(info.participant_id):\n",
    "    if subject in included_subject_list:\n",
    "        info.at[s,'timepoint'] = template_sample[template_sample.subject == subject].session.values[0].split('-')[1]\n"
   ]
  },
  {
   "cell_type": "markdown",
   "metadata": {},
   "source": [
    "## Demographics: Template generation and validation sample"
   ]
  },
  {
   "cell_type": "code",
   "execution_count": 164,
   "metadata": {},
   "outputs": [
    {
     "name": "stdout",
     "output_type": "stream",
     "text": [
      "Sex levels: ['m' 'f']\n",
      "Group levels: ['p' 'c']\n",
      "Condition levels: ['PropFB' 'VMFB' 'VM' 'Prop']\n",
      "Timepoint levels: ['pre' None 'post']\n"
     ]
    },
    {
     "data": {
      "text/html": [
       "<div>\n",
       "<style scoped>\n",
       "    .dataframe tbody tr th:only-of-type {\n",
       "        vertical-align: middle;\n",
       "    }\n",
       "\n",
       "    .dataframe tbody tr th {\n",
       "        vertical-align: top;\n",
       "    }\n",
       "\n",
       "    .dataframe thead tr th {\n",
       "        text-align: left;\n",
       "    }\n",
       "\n",
       "    .dataframe thead tr:last-of-type th {\n",
       "        text-align: right;\n",
       "    }\n",
       "</style>\n",
       "<table border=\"1\" class=\"dataframe\">\n",
       "  <thead>\n",
       "    <tr>\n",
       "      <th></th>\n",
       "      <th>sex</th>\n",
       "      <th colspan=\"2\" halign=\"left\">age</th>\n",
       "      <th>group</th>\n",
       "      <th>condition</th>\n",
       "      <th>timepoint</th>\n",
       "    </tr>\n",
       "    <tr>\n",
       "      <th></th>\n",
       "      <th>value_counts</th>\n",
       "      <th>mean</th>\n",
       "      <th>std</th>\n",
       "      <th>value_counts</th>\n",
       "      <th>value_counts</th>\n",
       "      <th>value_counts</th>\n",
       "    </tr>\n",
       "    <tr>\n",
       "      <th>included</th>\n",
       "      <th></th>\n",
       "      <th></th>\n",
       "      <th></th>\n",
       "      <th></th>\n",
       "      <th></th>\n",
       "      <th></th>\n",
       "    </tr>\n",
       "  </thead>\n",
       "  <tbody>\n",
       "    <tr>\n",
       "      <th>True</th>\n",
       "      <td>[23, 17]</td>\n",
       "      <td>57.150</td>\n",
       "      <td>9.962880</td>\n",
       "      <td>[20, 20]</td>\n",
       "      <td>[10, 10, 10, 10]</td>\n",
       "      <td>[21, 19]</td>\n",
       "    </tr>\n",
       "    <tr>\n",
       "      <th>False</th>\n",
       "      <td>[22, 18]</td>\n",
       "      <td>53.975</td>\n",
       "      <td>11.850538</td>\n",
       "      <td>[20, 20]</td>\n",
       "      <td>[10, 10, 10, 10]</td>\n",
       "      <td>[]</td>\n",
       "    </tr>\n",
       "  </tbody>\n",
       "</table>\n",
       "</div>"
      ],
      "text/plain": [
       "                  sex     age                   group         condition  \\\n",
       "         value_counts    mean        std value_counts      value_counts   \n",
       "included                                                                  \n",
       "True         [23, 17]  57.150   9.962880     [20, 20]  [10, 10, 10, 10]   \n",
       "False        [22, 18]  53.975  11.850538     [20, 20]  [10, 10, 10, 10]   \n",
       "\n",
       "            timepoint  \n",
       "         value_counts  \n",
       "included               \n",
       "True         [21, 19]  \n",
       "False              []  "
      ]
     },
     "execution_count": 164,
     "metadata": {},
     "output_type": "execute_result"
    }
   ],
   "source": [
    "# Show demographics of included and excluded subjects (count categorical values of sex, group and condition and calculate mean and std of age)\n",
    "demographics = info.groupby(['included']).agg({'sex': pd.Series.value_counts,\n",
    "                                               'age': ['mean', 'std'],\n",
    "                                               'group': pd.Series.value_counts,\n",
    "                                               'condition': pd.Series.value_counts,\n",
    "                                               'timepoint': pd.Series.value_counts})\n",
    "demographics = demographics.reindex([True, False])\n",
    "demographics.to_latex(f'{base_dir}/../code/cerebellar_degeneration/latex_tables/demographics.tex')\n",
    "\n",
    "sex_levels = info['sex'].unique()\n",
    "group_levels = info['group'].unique()\n",
    "condition_levels = info['condition'].unique()\n",
    "timepoint_levels = info['timepoint'].unique()\n",
    "\n",
    "print(\"Sex levels:\", sex_levels)\n",
    "print(\"Group levels:\", group_levels)\n",
    "print(\"Condition levels:\", condition_levels)\n",
    "print(\"Timepoint levels:\", timepoint_levels)\n",
    "\n",
    "demographics\n",
    "\n"
   ]
  },
  {
   "cell_type": "code",
   "execution_count": 165,
   "metadata": {},
   "outputs": [
    {
     "name": "stdout",
     "output_type": "stream",
     "text": [
      "condition       Prop  PropFB  VM  VMFB\n",
      "included group                        \n",
      "False    c         6       5   7     2\n",
      "         p         4       5   3     8\n",
      "True     c         4       5   3     8\n",
      "         p         6       5   7     2\n",
      "timepoint       post  pre\n",
      "included group           \n",
      "True     c        11    9\n",
      "         p        10   10\n",
      "timepoint           post  pre\n",
      "included condition           \n",
      "True     Prop          5    5\n",
      "         PropFB        6    4\n",
      "         VM            5    5\n",
      "         VMFB          5    5\n"
     ]
    }
   ],
   "source": [
    "# Counterbalancing of group x condition combinations\n",
    "group_condition = info.groupby(['included','group', 'condition']).size().unstack(fill_value=0)\n",
    "print(group_condition)\n",
    "# Counterbalancing of group x timepoint combinations\n",
    "group_timepoint = info.groupby(['included','group', 'timepoint']).size().unstack(fill_value=0)\n",
    "print(group_timepoint)\n",
    "# Counterbalancing of condition x timepoint combinations\n",
    "condition_timepoint = info.groupby(['included','condition', 'timepoint']).size().unstack(fill_value=0)\n",
    "print(condition_timepoint)\n",
    "\n"
   ]
  },
  {
   "attachments": {},
   "cell_type": "markdown",
   "metadata": {},
   "source": [
    "## Fissure Distance"
   ]
  },
  {
   "cell_type": "code",
   "execution_count": 166,
   "metadata": {},
   "outputs": [
    {
     "name": "stderr",
     "output_type": "stream",
     "text": [
      "/var/folders/y1/13zjm1t50ms6ds24c69y7vx40000gn/T/ipykernel_64938/685659252.py:12: FutureWarning: \n",
      "\n",
      "Passing `palette` without assigning `hue` is deprecated and will be removed in v0.14.0. Assign the `x` variable to `hue` and set `legend=False` for the same effect.\n",
      "\n",
      "  sns.barplot(data=data, x=\"space\", y=\"distances\", errorbar=\"se\", order=[\n"
     ]
    },
    {
     "data": {
      "text/plain": [
       "<Axes: xlabel='space', ylabel='distances'>"
      ]
     },
     "execution_count": 166,
     "metadata": {},
     "output_type": "execute_result"
    },
    {
     "data": {
      "image/png": "[encoded data removed]",
      "text/plain": [
       "<Figure size 640x480 with 1 Axes>"
      ]
     },
     "metadata": {},
     "output_type": "display_data"
    }
   ],
   "source": [
    "x = data.query('space == \"DeCon\"').distances\n",
    "y = data.query('space == \"mni_ants\"').distances\n",
    "stats.ttest_rel(x, y)\n",
    "\n",
    "\n",
    "# make colours out of hex codes\n",
    "hex_codes = ['#FCB414', '#AF3B94', '#4D489C']\n",
    "# convert hex to matplotlib format\n",
    "custom_palette = sns.color_palette(hex_codes)\n",
    "\n",
    "\n",
    "sns.barplot(data=data, x=\"space\", y=\"distances\", errorbar=\"se\", order=[\n",
    "            'mni_ants', 'suit', 'DeCon'], palette=custom_palette)\n",
    "\n"
   ]
  },
  {
   "cell_type": "code",
   "execution_count": 167,
   "metadata": {},
   "outputs": [
    {
     "data": {
      "text/html": [
       "<div>\n",
       "<style scoped>\n",
       "    .dataframe tbody tr th:only-of-type {\n",
       "        vertical-align: middle;\n",
       "    }\n",
       "\n",
       "    .dataframe tbody tr th {\n",
       "        vertical-align: top;\n",
       "    }\n",
       "\n",
       "    .dataframe thead tr th {\n",
       "        text-align: left;\n",
       "    }\n",
       "\n",
       "    .dataframe thead tr:last-of-type th {\n",
       "        text-align: right;\n",
       "    }\n",
       "</style>\n",
       "<table border=\"1\" class=\"dataframe\">\n",
       "  <thead>\n",
       "    <tr>\n",
       "      <th></th>\n",
       "      <th></th>\n",
       "      <th></th>\n",
       "      <th colspan=\"3\" halign=\"left\">distances</th>\n",
       "    </tr>\n",
       "    <tr>\n",
       "      <th></th>\n",
       "      <th></th>\n",
       "      <th></th>\n",
       "      <th colspan=\"3\" halign=\"left\">mean</th>\n",
       "    </tr>\n",
       "    <tr>\n",
       "      <th></th>\n",
       "      <th></th>\n",
       "      <th>space</th>\n",
       "      <th>DeCon</th>\n",
       "      <th>mni_ants</th>\n",
       "      <th>suit</th>\n",
       "    </tr>\n",
       "    <tr>\n",
       "      <th>included</th>\n",
       "      <th>fissure</th>\n",
       "      <th>mask</th>\n",
       "      <th></th>\n",
       "      <th></th>\n",
       "      <th></th>\n",
       "    </tr>\n",
       "  </thead>\n",
       "  <tbody>\n",
       "    <tr>\n",
       "      <th rowspan=\"3\" valign=\"top\">False</th>\n",
       "      <th rowspan=\"2\" valign=\"top\">1</th>\n",
       "      <th>cerebellar_mask</th>\n",
       "      <td>2.26</td>\n",
       "      <td>3.80</td>\n",
       "      <td>3.24</td>\n",
       "    </tr>\n",
       "    <tr>\n",
       "      <th>vermal</th>\n",
       "      <td>0.96</td>\n",
       "      <td>3.22</td>\n",
       "      <td>2.40</td>\n",
       "    </tr>\n",
       "    <tr>\n",
       "      <th>2</th>\n",
       "      <th>cerebellar_mask</th>\n",
       "      <td>1.83</td>\n",
       "      <td>3.22</td>\n",
       "      <td>2.71</td>\n",
       "    </tr>\n",
       "    <tr>\n",
       "      <th rowspan=\"3\" valign=\"top\">True</th>\n",
       "      <th rowspan=\"2\" valign=\"top\">1</th>\n",
       "      <th>cerebellar_mask</th>\n",
       "      <td>2.25</td>\n",
       "      <td>4.04</td>\n",
       "      <td>3.41</td>\n",
       "    </tr>\n",
       "    <tr>\n",
       "      <th>vermal</th>\n",
       "      <td>0.81</td>\n",
       "      <td>3.16</td>\n",
       "      <td>2.37</td>\n",
       "    </tr>\n",
       "    <tr>\n",
       "      <th>2</th>\n",
       "      <th>cerebellar_mask</th>\n",
       "      <td>2.06</td>\n",
       "      <td>3.51</td>\n",
       "      <td>2.97</td>\n",
       "    </tr>\n",
       "  </tbody>\n",
       "</table>\n",
       "</div>"
      ],
      "text/plain": [
       "                                 distances               \n",
       "                                      mean               \n",
       "space                                DeCon mni_ants  suit\n",
       "included fissure mask                                    \n",
       "False    1       cerebellar_mask      2.26     3.80  3.24\n",
       "                 vermal               0.96     3.22  2.40\n",
       "         2       cerebellar_mask      1.83     3.22  2.71\n",
       "True     1       cerebellar_mask      2.25     4.04  3.41\n",
       "                 vermal               0.81     3.16  2.37\n",
       "         2       cerebellar_mask      2.06     3.51  2.97"
      ]
     },
     "execution_count": 167,
     "metadata": {},
     "output_type": "execute_result"
    }
   ],
   "source": [
    "# Make a summary table of the mean (not the std) fissure distances with the columns DeCon, MNI and SUIT and the rows included and excluded and each row have sub-rows of fissure 1 cerebellar_mask, fissure 1 vermal and fissure 2 cerebellar_mask\n",
    "summary_mean = data.groupby(['included', 'space', 'fissure', 'mask']).agg({'distances': ['mean']})\n",
    "summary_mean = summary_mean.unstack(level=1)\n",
    "# Round all values to the second decimal\n",
    "summary_mean = summary_mean.round(2)\n",
    "\n",
    "summary_mean.to_latex(f'{base_dir}/../code/cerebellar_degeneration/latex_tables/fissure_summary.tex')\n",
    "\n",
    "\n",
    "# Summarize standard deviation\n",
    "summary_std = data.groupby(['included', 'space', 'fissure', 'mask']).agg({'distances': ['std']})\n",
    "summary_std = summary_std.unstack(level=1)\n",
    "# Round all values to the second decimal\n",
    "summary_std = summary_std.round(2)\n",
    "\n",
    "summary_std.to_latex(f'{base_dir}/../code/cerebellar_degeneration/latex_tables/fissure_summary_std.tex')\n",
    "\n",
    "summary_mean"
   ]
  },
  {
   "attachments": {},
   "cell_type": "markdown",
   "metadata": {},
   "source": [
    "## Test differences in fissure distance for validation sample (train and test subjects)\n",
    "\n",
    "### Overall distance (both fissures, whole cerebellum) in all 80 participants\n"
   ]
  },
  {
   "cell_type": "code",
   "execution_count": 168,
   "metadata": {},
   "outputs": [
    {
     "name": "stdout",
     "output_type": "stream",
     "text": [
      "Overall reduction in cerebellar fissures to MNI: 31.79% (from 3.64 to 2.1)\n",
      "Overall reduction in cerebellar fissures to SUIT: 31.79% (from 3.08 to 2.1)\n"
     ]
    }
   ],
   "source": [
    "\n",
    "suit = data.query(\n",
    "    'space == \"suit\" & mask == \"cerebellar_mask\"').distances\n",
    "degen = data.query(\n",
    "    'space == \"DeCon\" & mask == \"cerebellar_mask\"').distances\n",
    "mni = data.query(\n",
    "    'space == \"mni_ants\" & mask == \"cerebellar_mask\"').distances\n",
    "reduction = (suit.mean()-degen.mean())/suit.mean()\n",
    "print(f'Overall reduction in cerebellar fissures to MNI: {round(reduction*100,2)}% (from {round(mni.mean(),2)} to {round(degen.mean(),2)})')\n",
    "print(f'Overall reduction in cerebellar fissures to SUIT: {round(reduction*100,2)}% (from {round(suit.mean(),2)} to {round(degen.mean(),2)})')\n",
    "\n",
    "# result = stats.ttest_rel(degen, mni)\n",
    "# df = len(degen) - 1\n",
    "# print(f'\\t(t({df})={round(result.statistic,2)}, p={result.pvalue:.2e})\\n')\n",
    "\n",
    "# result = stats.ttest_rel(degen, suit)\n",
    "# df = len(degen) - 1\n",
    "# print(f'\\t(t({df})={round(result.statistic,2)}, p={result.pvalue:.2e})\\n')"
   ]
  },
  {
   "attachments": {},
   "cell_type": "markdown",
   "metadata": {},
   "source": [
    "### Fissure 1"
   ]
  },
  {
   "cell_type": "code",
   "execution_count": 169,
   "metadata": {},
   "outputs": [
    {
     "name": "stdout",
     "output_type": "stream",
     "text": [
      "Fissure: 1 \n",
      "Sample: Validation\n",
      "Mask: vermal\n",
      "\tDifference degeneration vs mni: t = -15.49, p = 0.0\n",
      "\tDifference degeneration vs suit: t = -15.49, p = 2.974188863270597e-18\n",
      "Fissure: 1 \n",
      "Sample: Validation\n",
      "Mask: cerebellar_mask\n",
      "\tDifference degeneration vs mni: t = -14.912, p = 0.0\n",
      "\tDifference degeneration vs suit: t = -14.912, p = 1.0626638592852354e-17\n",
      "Fissure: 1 \n",
      "Sample: Training\n",
      "Mask: vermal\n",
      "\tDifference degeneration vs mni: t = -12.904, p = 0.0\n",
      "\tDifference degeneration vs suit: t = -12.904, p = 1.1816185956740551e-15\n",
      "Fissure: 1 \n",
      "Sample: Training\n",
      "Mask: cerebellar_mask\n",
      "\tDifference degeneration vs mni: t = -15.668, p = 0.0\n",
      "\tDifference degeneration vs suit: t = -15.668, p = 2.0211069968265836e-18\n"
     ]
    }
   ],
   "source": [
    "fissure=1\n",
    "for included in [True, False]:\n",
    "    for mask in ['vermal', 'cerebellar_mask']:\n",
    "        # Test against MNI\n",
    "        x = data.query(\n",
    "            'space == \"DeCon\" & included == @included & fissure == @fissure & mask == @mask').distances\n",
    "        y = data.query(\n",
    "            'space == \"mni_ants\" & included == @included & fissure == @fissure & mask == @mask').distances\n",
    "        t,p = stats.ttest_rel(x, y)\n",
    "        print(\n",
    "            f'Fissure: {fissure} \\nSample: {\"Validation\" if included else \"Training\"}\\nMask: {mask}\\n\\tDifference degeneration vs mni: t = {round(t,3)}, p = {round(p,4)}')\n",
    "        # Test against SUIT\n",
    "        y = data.query(\n",
    "            'space == \"suit\" & included == @included & fissure == @fissure & mask == @mask').distances\n",
    "        print(\n",
    "            f'\\tDifference degeneration vs suit: t = {round(t,3)}, p = {p}')\n",
    "        "
   ]
  },
  {
   "cell_type": "code",
   "execution_count": 170,
   "metadata": {},
   "outputs": [
    {
     "data": {
      "text/plain": [
       "([<matplotlib.axis.YTick at 0x15c634d00>,\n",
       "  <matplotlib.axis.YTick at 0x15c6346a0>,\n",
       "  <matplotlib.axis.YTick at 0x15c651d60>,\n",
       "  <matplotlib.axis.YTick at 0x15cbb9d00>,\n",
       "  <matplotlib.axis.YTick at 0x15c67bdf0>],\n",
       " [Text(0, 0, '0'),\n",
       "  Text(0, 1, '1'),\n",
       "  Text(0, 2, '2'),\n",
       "  Text(0, 3, '3'),\n",
       "  Text(0, 4, '4')])"
      ]
     },
     "execution_count": 170,
     "metadata": {},
     "output_type": "execute_result"
    },
    {
     "data": {
      "image/png": "[encoded data removed]",
      "text/plain": [
       "<Figure size 613.125x1000 with 2 Axes>"
      ]
     },
     "metadata": {},
     "output_type": "display_data"
    }
   ],
   "source": [
    "sns.catplot(data=data[data.fissure == 1], x=\"included\", y=\"distances\", row=\"mask\",\n",
    "            hue=\"space\", kind=\"bar\", errorbar=\"se\", hue_order=['mni_ants', 'suit', 'DeCon'], palette=custom_palette)\n",
    "plt.ylim(0, 4.5)\n",
    "plt.yticks(np.arange(0, 5, 1))"
   ]
  },
  {
   "attachments": {},
   "cell_type": "markdown",
   "metadata": {},
   "source": [
    "### Fissure 2"
   ]
  },
  {
   "cell_type": "code",
   "execution_count": 171,
   "metadata": {},
   "outputs": [
    {
     "name": "stdout",
     "output_type": "stream",
     "text": [
      "Fissure: 2 \n",
      "Sample: Validation\n",
      "Mask: cerebellar_mask\n",
      "\tDifference degeneration vs mni: t = -13.053, p = 0.0\n",
      "\tDifference degeneration vs suit: t = -13.053, p = 0.0\n",
      "Fissure: 2 \n",
      "Sample: Training\n",
      "Mask: cerebellar_mask\n",
      "\tDifference degeneration vs mni: t = -18.461, p = 0.0\n",
      "\tDifference degeneration vs suit: t = -18.461, p = 0.0\n"
     ]
    }
   ],
   "source": [
    "fissure = 2\n",
    "for included in [True, False]:\n",
    "    for mask in ['cerebellar_mask']:\n",
    "        # Test against MNI\n",
    "        x = data.query(\n",
    "            'space == \"DeCon\" & included == @included & fissure == @fissure & mask == @mask').distances\n",
    "        y = data.query(\n",
    "            'space == \"mni_ants\" & included == @included & fissure == @fissure & mask == @mask').distances\n",
    "        t, p = stats.ttest_rel(x, y)\n",
    "        print(\n",
    "            f'Fissure: {fissure} \\nSample: {\"Validation\" if included else \"Training\"}\\nMask: {mask}\\n\\tDifference degeneration vs mni: t = {round(t,3)}, p = {round(p,4)}')\n",
    "        # Test against SUIT\n",
    "        y = data.query(\n",
    "            'space == \"suit\" & included == @included & fissure == @fissure & mask == @mask').distances\n",
    "        print(\n",
    "            f'\\tDifference degeneration vs suit: t = {round(t,3)}, p = {round(p,4)}')\n"
   ]
  },
  {
   "cell_type": "code",
   "execution_count": 172,
   "metadata": {},
   "outputs": [
    {
     "data": {
      "text/plain": [
       "(0.0, 4.5)"
      ]
     },
     "execution_count": 172,
     "metadata": {},
     "output_type": "execute_result"
    },
    {
     "data": {
      "image/png": "[encoded data removed]",
      "text/plain": [
       "<Figure size 613.125x500 with 1 Axes>"
      ]
     },
     "metadata": {},
     "output_type": "display_data"
    }
   ],
   "source": [
    "sns.catplot(data=data[data.fissure == 2], x=\"included\", y=\"distances\",\n",
    "            hue=\"space\", kind=\"bar\", errorbar=\"se\", hue_order=['mni_ants', 'suit', 'DeCon'], palette=custom_palette)\n",
    "plt.yticks(np.arange(0, 5, 1))\n",
    "plt.ylim(0, 4.5)\n"
   ]
  },
  {
   "cell_type": "markdown",
   "metadata": {},
   "source": [
    "# No patient-control differences in fissure alignment\n",
    "Ensure that there are no systematic differences in alignment between groups in the new template space (DeCon)"
   ]
  },
  {
   "cell_type": "code",
   "execution_count": 173,
   "metadata": {},
   "outputs": [
    {
     "name": "stdout",
     "output_type": "stream",
     "text": [
      "Fissure: 1\n",
      "Mask: Vermal\n",
      "\tDifference patient vs control: \n",
      "(t(78)=1.05, p=0.30)\n",
      "\n",
      "Fissure: 1\n",
      "\tDifference patient vs control: \n",
      "(t(78)=1.09, p=0.28)\n",
      "\n",
      "Fissure: 2\n",
      "\tDifference patient vs control: \n",
      "(t(78)=1.61, p=0.11)\n",
      "\n"
     ]
    }
   ],
   "source": [
    "patients = data.query(\n",
    "        'space ==\"DeCon\" & fissure == 1 & mask == \"vermal\" & group == \"p\"').distances\n",
    "controls = data.query(\n",
    "    'space == \"DeCon\" & fissure == 1 & mask == \"vermal\" & group == \"c\"').distances\n",
    "t, p = stats.ttest_ind(patients, controls)\n",
    "df = len(patients) + len(controls) - 2\n",
    "print(\n",
    "    f'Fissure: 1\\nMask: Vermal\\n\\tDifference patient vs control: \\n(t({df})={round(t,2)}, p={p:.2f})\\n')\n",
    "\n",
    "for fissure in [1, 2]:\n",
    "    patients = data.query(\n",
    "        'space ==\"DeCon\"  & mask == \"cerebellar_mask\" & fissure == @fissure & group == \"p\"').distances\n",
    "    controls = data.query(\n",
    "        'space == \"DeCon\"  & mask == \"cerebellar_mask\" & fissure == @fissure & group == \"c\"').distances\n",
    "    t, p = stats.ttest_ind(patients, controls)\n",
    "    df = len(patients) + len(controls) - 2\n",
    "    print(\n",
    "        f'Fissure: {fissure}\\n\\tDifference patient vs control: \\n(t({df})={round(t,2)}, p={p:.2f})\\n')"
   ]
  },
  {
   "cell_type": "markdown",
   "metadata": {},
   "source": [
    "# No generation-validation differences in fissure alignment\n",
    "Ensure that there are no systematic differences in alignment between template generation and template validation participants in DeCon space"
   ]
  },
  {
   "cell_type": "code",
   "execution_count": 174,
   "metadata": {},
   "outputs": [
    {
     "name": "stdout",
     "output_type": "stream",
     "text": [
      "Fissure: 1\n",
      "Mask: Vermal\n",
      "\tDifference Generation vs Validation: \n",
      "(t(78)=-0.88, p=0.38)\n",
      "\n",
      "Fissure: 1\n",
      "\tDifference Generation vs Validation: \n",
      "(t(78)=-0.07, p=0.94)\n",
      "\n",
      "Fissure: 2\n",
      "\tDifference Generation vs Validation: \n",
      "(t(78)=1.68, p=0.10)\n",
      "\n"
     ]
    }
   ],
   "source": [
    "generation = data.query(\n",
    "        'space ==\"DeCon\" & fissure == 1 & mask == \"vermal\" & included == True').distances\n",
    "validation = data.query(\n",
    "    'space == \"DeCon\" & fissure == 1 & mask == \"vermal\" & included == False').distances\n",
    "t, p = stats.ttest_ind(generation, validation)\n",
    "df = len(generation) + len(validation) - 2\n",
    "print(\n",
    "    f'Fissure: 1\\nMask: Vermal\\n\\tDifference Generation vs Validation: \\n(t({df})={round(t,2)}, p={p:.2f})\\n')\n",
    "\n",
    "for fissure in [1, 2]:\n",
    "    generation = data.query(\n",
    "        'space ==\"DeCon\"  & mask == \"cerebellar_mask\" & fissure == @fissure & included == True').distances\n",
    "    validation = data.query(\n",
    "        'space == \"DeCon\"  & mask == \"cerebellar_mask\" & fissure == @fissure & included == False').distances\n",
    "    t, p = stats.ttest_ind(generation, validation)\n",
    "    df = len(generation) + len(validation) - 2\n",
    "    print(\n",
    "        f'Fissure: {fissure}\\n\\tDifference Generation vs Validation: \\n(t({df})={round(t,2)}, p={p:.2f})\\n')"
   ]
  },
  {
   "cell_type": "markdown",
   "metadata": {},
   "source": [
    "# Spatial spread reduction"
   ]
  },
  {
   "attachments": {},
   "cell_type": "markdown",
   "metadata": {},
   "source": [
    "### Percentage reduction in spatial spread of fissures from MNI to degeneration"
   ]
  },
  {
   "cell_type": "code",
   "execution_count": 175,
   "metadata": {},
   "outputs": [
    {
     "name": "stdout",
     "output_type": "stream",
     "text": [
      "Reduction in Generation fissure 1 vermal distance: 74.3% (from 3.16 to 0.81)\n",
      "\t(t(39)=-15.49, p=2.97e-18)\n",
      "\n",
      "Reduction in Validation fissure 1 vermal distance: 70.15% (from 3.22 to 0.96)\n",
      "\t(t(39)=-12.9, p=1.18e-15)\n",
      "\n",
      "Reduction in Generation fissure 1 cerebellar distance: 44.32% (from 4.04 to 2.25)\n",
      "\t(t(39)=-14.91, p=1.06e-17)\n",
      "\n",
      "Reduction in Validation fissure 1 cerebellar distance: 40.45% (from 3.8 to 2.26)\n",
      "\t(t(39)=-15.67, p=2.02e-18)\n",
      "\n",
      "Reduction in Generation fissure 2 cerebellar distance: 41.27% (from 3.51 to 2.06)\n",
      "\t(t(39)=-13.05, p=8.20e-16)\n",
      "\n",
      "Reduction in Validation fissure 2 cerebellar distance: 43.25% (from 3.22 to 1.83)\n",
      "\t(t(39)=-18.46, p=7.08e-21)\n",
      "\n"
     ]
    }
   ],
   "source": [
    "\n",
    "for included in [True, False]:\n",
    "    mni = data.query(\n",
    "        'space == \"mni_ants\" & included == @included & fissure == 1 & mask == \"vermal\"').distances\n",
    "    degen = data.query(\n",
    "        'space == \"DeCon\" & included == @included & fissure == 1 & mask == \"vermal\"').distances\n",
    "    reduction = (mni.mean()-degen.mean())/mni.mean()\n",
    "    print(f'Reduction in {\"Generation\" if included else \"Validation\"} fissure 1 vermal distance: {round(reduction*100,2)}% (from {round(mni.mean(),2)} to {round(degen.mean(),2)})')\n",
    "    result = stats.ttest_rel(degen, mni)\n",
    "    df = len(degen) - 1\n",
    "    print(f'\\t(t({df})={round(result.statistic,2)}, p={result.pvalue:.2e})\\n')\n",
    "\n",
    "\n",
    "for fissure in [1,2]:\n",
    "    for included in [True, False]:\n",
    "        mni = data.query(\n",
    "            'space == \"mni_ants\" & included == @included & fissure == @fissure & mask == \"cerebellar_mask\"').distances\n",
    "        degen = data.query(\n",
    "            'space == \"DeCon\" & included == @included & fissure == @fissure & mask == \"cerebellar_mask\"').distances\n",
    "        reduction = (mni.mean()-degen.mean())/mni.mean()\n",
    "        print(f'Reduction in {\"Generation\" if included else \"Validation\"} fissure {fissure} cerebellar distance: {round(reduction*100,2)}% (from {round(mni.mean(),2)} to {round(degen.mean(),2)})')\n",
    "        result = stats.ttest_rel(degen, mni)\n",
    "        df = len(degen) - 1\n",
    "        print(f'\\t(t({df})={round(result.statistic,2)}, p={result.pvalue:.2e})\\n')\n"
   ]
  },
  {
   "attachments": {},
   "cell_type": "markdown",
   "metadata": {},
   "source": [
    "### Percentage reduction in spatial spread of fissures from SUIT to degeneration"
   ]
  },
  {
   "cell_type": "code",
   "execution_count": 176,
   "metadata": {},
   "outputs": [
    {
     "name": "stdout",
     "output_type": "stream",
     "text": [
      "Reduction in Generation fissure 1 vermal distance: 65.8% (from 2.37 to 0.81)\n",
      "\t(t(39)=-13.68, p=1.82e-16)\n",
      "\n",
      "Reduction in Validation fissure 1 vermal distance: 59.91% (from 2.4 to 0.96)\n",
      "\t(t(39)=-7.88, p=1.36e-09)\n",
      "\n",
      "Reduction in Generation fissure 1 cerebellar distance: 34.01% (from 3.41 to 2.25)\n",
      "\t(t(39)=-13.43, p=3.28e-16)\n",
      "\n",
      "Reduction in Validation fissure 1 cerebellar distance: 30.15% (from 3.24 to 2.26)\n",
      "\t(t(39)=-11.32, p=6.83e-14)\n",
      "\n",
      "Reduction in Generation fissure 2 cerebellar distance: 30.41% (from 2.97 to 2.06)\n",
      "\t(t(39)=-10.11, p=1.90e-12)\n",
      "\n",
      "Reduction in Validation fissure 2 cerebellar distance: 32.46% (from 2.71 to 1.83)\n",
      "\t(t(39)=-15.1, p=6.95e-18)\n",
      "\n"
     ]
    }
   ],
   "source": [
    "for included in [True, False]:\n",
    "    suit = data.query(\n",
    "        'space == \"suit\" & included == @included & fissure == 1 & mask == \"vermal\"').distances\n",
    "    degen = data.query(\n",
    "        'space == \"DeCon\" & included == @included & fissure == 1 & mask == \"vermal\"').distances\n",
    "    reduction = (suit.mean()-degen.mean())/suit.mean()\n",
    "    print(f'Reduction in {\"Generation\" if included else \"Validation\"} fissure 1 vermal distance: {round(reduction*100,2)}% (from {round(suit.mean(),2)} to {round(degen.mean(),2)})')\n",
    "    result = stats.ttest_rel(degen, suit)\n",
    "    df = len(degen) - 1\n",
    "    print(f'\\t(t({df})={round(result.statistic,2)}, p={result.pvalue:.2e})\\n')\n",
    "\n",
    "for fissure in [1,2]:\n",
    "    for included in [True, False]:\n",
    "        suit = data.query(\n",
    "            'space == \"suit\" & included == @included & fissure == @fissure & mask == \"cerebellar_mask\"').distances\n",
    "        degen = data.query(\n",
    "            'space == \"DeCon\" & included == @included & fissure == @fissure & mask == \"cerebellar_mask\"').distances\n",
    "        reduction = (suit.mean()-degen.mean())/suit.mean()\n",
    "        print(f'Reduction in {\"Generation\" if included else \"Validation\"} fissure {fissure} cerebellar distance: {round(reduction*100,2)}% (from {round(suit.mean(),2)} to {round(degen.mean(),2)})')\n",
    "        result = stats.ttest_rel(degen, suit)\n",
    "        df = len(degen) - 1\n",
    "        print(f'\\t(t({df})={round(result.statistic,2)}, p={result.pvalue:.2e})\\n')"
   ]
  }
 ],
 "metadata": {
  "kernelspec": {
   "display_name": "env",
   "language": "python",
   "name": "python3"
  },
  "language_info": {
   "codemirror_mode": {
    "name": "ipython",
    "version": 3
   },
   "file_extension": ".py",
   "mimetype": "text/x-python",
   "name": "python",
   "nbconvert_exporter": "python",
   "pygments_lexer": "ipython3",
   "version": "3.9.10"
  },
  "orig_nbformat": 4
 },
 "nbformat": 4,
 "nbformat_minor": 2
}
